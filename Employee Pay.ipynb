{
 "cells": [
  {
   "cell_type": "code",
   "execution_count": 27,
   "metadata": {},
   "outputs": [
    {
     "name": "stdout",
     "output_type": "stream",
     "text": [
      "How many employees? 2\n",
      "Who is it? Hilary\n",
      "What is their pay rate? 18.41\n",
      "How many hours did they work? 35\n",
      "~ Hilary $ 644.35 ~\n",
      "Who is it? April\n",
      "What is their pay rate? 15\n",
      "How many hours did they work? 41\n",
      "~ April $ 622.50 ~\n"
     ]
    }
   ],
   "source": [
    "employeenum=input(\"How many employees? \")\n",
    "employeenum=int(employeenum)\n",
    "while employeenum!=0:\n",
    "    name=input (\"Who is it? \")\n",
    "    pay=input(\"What is their pay rate? \")\n",
    "    pay=float(pay)\n",
    "    hours=input(\"How many hours did they work? \")\n",
    "    hours=float(hours)\n",
    "    if hours > 40:\n",
    "        salary=((40*pay)+((hours-40)*pay*1.5))\n",
    "    else:\n",
    "        salary=(hours*pay)\n",
    "    print (\"~\",name,\"$\",\"{:.2f}\".format(salary,2),\"~\")\n",
    "    employeenum=employeenum-1"
   ]
  },
  {
   "cell_type": "code",
   "execution_count": null,
   "metadata": {},
   "outputs": [],
   "source": []
  }
 ],
 "metadata": {
  "kernelspec": {
   "display_name": "Python 3",
   "language": "python",
   "name": "python3"
  },
  "language_info": {
   "codemirror_mode": {
    "name": "ipython",
    "version": 3
   },
   "file_extension": ".py",
   "mimetype": "text/x-python",
   "name": "python",
   "nbconvert_exporter": "python",
   "pygments_lexer": "ipython3",
   "version": "3.7.3"
  }
 },
 "nbformat": 4,
 "nbformat_minor": 2
}
