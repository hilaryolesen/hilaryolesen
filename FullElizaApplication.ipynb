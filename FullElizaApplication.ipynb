{
 "cells": [
  {
   "cell_type": "code",
   "execution_count": 13,
   "metadata": {},
   "outputs": [],
   "source": [
    "def perspectivei(complaint):\n",
    "    \"\"\"Switch I to You\"\"\"\n",
    "    if 'i ' in complaint.lower():\n",
    "        complaint = complaint.replace('i ', 'you ')\n",
    "    return complaint.lower()"
   ]
  },
  {
   "cell_type": "code",
   "execution_count": 14,
   "metadata": {},
   "outputs": [],
   "source": [
    "def perspectiveme(complaint):\n",
    "    \"\"\"Switch me to you\"\"\"\n",
    "    if ' me' in complaint.lower():\n",
    "        complaint = complaint.replace(' me', ' you')\n",
    "    return complaint.lower()"
   ]
  },
  {
   "cell_type": "code",
   "execution_count": 15,
   "metadata": {},
   "outputs": [],
   "source": [
    "def perspectivemy(complaint):\n",
    "    \"\"\"Switch my to your\"\"\"\n",
    "    if 'my ' in complaint.lower():\n",
    "        complaint = complaint.replace('my ', 'your ')\n",
    "    return complaint.lower()"
   ]
  },
  {
   "cell_type": "code",
   "execution_count": 16,
   "metadata": {},
   "outputs": [],
   "source": [
    "def perspectiveam(complaint):\n",
    "    \"\"\"Switch am to are\"\"\"\n",
    "    if ' am' in complaint.lower():\n",
    "        complaint = complaint.replace(' am', ' are')\n",
    "    return complaint.lower()"
   ]
  },
  {
   "cell_type": "code",
   "execution_count": 17,
   "metadata": {},
   "outputs": [],
   "source": [
    "def perspectivemyself(complaint):\n",
    "    \"\"\"Switch myself to yourself\"\"\"\n",
    "    if ' myself' in complaint.lower():\n",
    "        complaint = complaint.replace(' myself', ' yourself')\n",
    "    return complaint.lower()"
   ]
  },
  {
   "cell_type": "code",
   "execution_count": 18,
   "metadata": {},
   "outputs": [],
   "source": [
    "def perspective(complaint):\n",
    "    \"\"\"Swtich from first person to second\"\"\"\n",
    "    for value in range(0,17):\n",
    "        complaint=perspectivei(complaint)\n",
    "        complaint=perspectivemy(complaint)\n",
    "        complaint=perspectiveam(complaint)\n",
    "        complaint=perspectiveme(complaint)\n",
    "        complaint=perspectivemyself(complaint)\n",
    "    return complaint"
   ]
  },
  {
   "cell_type": "code",
   "execution_count": 22,
   "metadata": {},
   "outputs": [],
   "source": [
    "def therapyvoice(complaint):\n",
    "    \"\"\"Gives random therapist-like responses.\"\"\"\n",
    "\n",
    "    import random\n",
    "\n",
    "    filler = random.randint(1,9)\n",
    "\n",
    "    if filler == 1:\n",
    "        print(\"Please tell me more\")\n",
    "    elif filler == 2:\n",
    "        print(\"Many of my patients tell me the same thing\")\n",
    "    elif filler == 3:\n",
    "        print(\"It is getting late, maybe we had better quit\")\n",
    "    elif filler == 4:\n",
    "        print(\"Why do you say that \" + perspective(complaint))\n",
    "    elif filler == 5:\n",
    "        print(\"Why do you say that \" + perspective(complaint))\n",
    "    elif filler == 6:\n",
    "        print(\"You seem to think that \" + perspective(complaint))\n",
    "    elif filler == 7:\n",
    "        print(\"You seem to think that \" + perspective(complaint))\n",
    "    else:\n",
    "        print(\"So, you are concerned that \" + perspective(complaint))\n",
    "    \n",
    "    return complaint"
   ]
  },
  {
   "cell_type": "code",
   "execution_count": 23,
   "metadata": {},
   "outputs": [
    {
     "name": "stdout",
     "output_type": "stream",
     "text": [
      "Good day. What is your problem? Enter your response here or press Q to quit:\n",
      "Enter your response here or press Q to quit:my food choices are coming back to haunt me\n",
      "Why do you say that your food choices are coming back to haunt you\n",
      "Enter your response here or press Q to quit:I keep eating greasy food\n",
      "Please tell me more\n",
      "Enter your response here or press Q to quit:I eat fast food too much\n",
      "So, you are concerned that you eat fast food too much\n",
      "Enter your response here or press Q to quit:I am feeling great\n",
      "you are feeling great\n"
     ]
    }
   ],
   "source": [
    "message=\"Enter your response here or press Q to quit:\"\n",
    "\n",
    "print(\"Good day. What is your problem? \" + message)\n",
    "\n",
    "while True:\n",
    "    response = input(message)\n",
    "    \n",
    "    if response.lower() == \"q\":\n",
    "        break\n",
    "    elif response.lower() == \"i am feeling great\":\n",
    "        print(perspective(response))\n",
    "        break\n",
    "    else:\n",
    "        therapyvoice(response)"
   ]
  },
  {
   "cell_type": "code",
   "execution_count": null,
   "metadata": {},
   "outputs": [],
   "source": []
  }
 ],
 "metadata": {
  "kernelspec": {
   "display_name": "Python 3",
   "language": "python",
   "name": "python3"
  },
  "language_info": {
   "codemirror_mode": {
    "name": "ipython",
    "version": 3
   },
   "file_extension": ".py",
   "mimetype": "text/x-python",
   "name": "python",
   "nbconvert_exporter": "python",
   "pygments_lexer": "ipython3",
   "version": "3.7.3"
  }
 },
 "nbformat": 4,
 "nbformat_minor": 2
}
