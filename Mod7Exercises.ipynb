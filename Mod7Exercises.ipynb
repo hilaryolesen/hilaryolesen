{
 "cells": [
  {
   "cell_type": "markdown",
   "metadata": {},
   "source": [
    "# Module 7 Exercises - Linear Regression"
   ]
  },
  {
   "cell_type": "markdown",
   "metadata": {},
   "source": [
    "### Exercise 1:\n",
    "\n",
    "Using the pandas library, in the datasets folder load the gradedata.csv file as a dataframe. Narrow your data (make the dataframe smaller) by choosing columns that you think can help predict student grades. Use any method that you've learned so far to help your decision on which columns to keep. "
   ]
  },
  {
   "cell_type": "code",
   "execution_count": 1,
   "metadata": {},
   "outputs": [
    {
     "data": {
      "text/html": [
       "<div>\n",
       "<style scoped>\n",
       "    .dataframe tbody tr th:only-of-type {\n",
       "        vertical-align: middle;\n",
       "    }\n",
       "\n",
       "    .dataframe tbody tr th {\n",
       "        vertical-align: top;\n",
       "    }\n",
       "\n",
       "    .dataframe thead th {\n",
       "        text-align: right;\n",
       "    }\n",
       "</style>\n",
       "<table border=\"1\" class=\"dataframe\">\n",
       "  <thead>\n",
       "    <tr style=\"text-align: right;\">\n",
       "      <th></th>\n",
       "      <th>hours</th>\n",
       "      <th>grade</th>\n",
       "    </tr>\n",
       "  </thead>\n",
       "  <tbody>\n",
       "    <tr>\n",
       "      <th>0</th>\n",
       "      <td>10</td>\n",
       "      <td>82.4</td>\n",
       "    </tr>\n",
       "    <tr>\n",
       "      <th>1</th>\n",
       "      <td>4</td>\n",
       "      <td>78.2</td>\n",
       "    </tr>\n",
       "    <tr>\n",
       "      <th>2</th>\n",
       "      <td>9</td>\n",
       "      <td>79.3</td>\n",
       "    </tr>\n",
       "    <tr>\n",
       "      <th>3</th>\n",
       "      <td>7</td>\n",
       "      <td>83.2</td>\n",
       "    </tr>\n",
       "    <tr>\n",
       "      <th>4</th>\n",
       "      <td>15</td>\n",
       "      <td>87.4</td>\n",
       "    </tr>\n",
       "  </tbody>\n",
       "</table>\n",
       "</div>"
      ],
      "text/plain": [
       "   hours  grade\n",
       "0     10   82.4\n",
       "1      4   78.2\n",
       "2      9   79.3\n",
       "3      7   83.2\n",
       "4     15   87.4"
      ]
     },
     "execution_count": 1,
     "metadata": {},
     "output_type": "execute_result"
    }
   ],
   "source": [
    "import pandas as pd\n",
    "\n",
    "gradataf=pd.read_csv('datasets/gradedata.csv')\n",
    "gradata=gradataf.drop(['address','fname','lname','gender','age','exercise'],axis=1)\n",
    "gradata.head()"
   ]
  },
  {
   "cell_type": "code",
   "execution_count": 2,
   "metadata": {},
   "outputs": [
    {
     "data": {
      "text/html": [
       "<div>\n",
       "<style scoped>\n",
       "    .dataframe tbody tr th:only-of-type {\n",
       "        vertical-align: middle;\n",
       "    }\n",
       "\n",
       "    .dataframe tbody tr th {\n",
       "        vertical-align: top;\n",
       "    }\n",
       "\n",
       "    .dataframe thead th {\n",
       "        text-align: right;\n",
       "    }\n",
       "</style>\n",
       "<table border=\"1\" class=\"dataframe\">\n",
       "  <thead>\n",
       "    <tr style=\"text-align: right;\">\n",
       "      <th></th>\n",
       "      <th>age</th>\n",
       "      <th>exercise</th>\n",
       "      <th>hours</th>\n",
       "      <th>grade</th>\n",
       "    </tr>\n",
       "  </thead>\n",
       "  <tbody>\n",
       "    <tr>\n",
       "      <th>age</th>\n",
       "      <td>1.000000</td>\n",
       "      <td>-0.003643</td>\n",
       "      <td>-0.017467</td>\n",
       "      <td>-0.007580</td>\n",
       "    </tr>\n",
       "    <tr>\n",
       "      <th>exercise</th>\n",
       "      <td>-0.003643</td>\n",
       "      <td>1.000000</td>\n",
       "      <td>0.021105</td>\n",
       "      <td>0.161286</td>\n",
       "    </tr>\n",
       "    <tr>\n",
       "      <th>hours</th>\n",
       "      <td>-0.017467</td>\n",
       "      <td>0.021105</td>\n",
       "      <td>1.000000</td>\n",
       "      <td>0.801955</td>\n",
       "    </tr>\n",
       "    <tr>\n",
       "      <th>grade</th>\n",
       "      <td>-0.007580</td>\n",
       "      <td>0.161286</td>\n",
       "      <td>0.801955</td>\n",
       "      <td>1.000000</td>\n",
       "    </tr>\n",
       "  </tbody>\n",
       "</table>\n",
       "</div>"
      ],
      "text/plain": [
       "               age  exercise     hours     grade\n",
       "age       1.000000 -0.003643 -0.017467 -0.007580\n",
       "exercise -0.003643  1.000000  0.021105  0.161286\n",
       "hours    -0.017467  0.021105  1.000000  0.801955\n",
       "grade    -0.007580  0.161286  0.801955  1.000000"
      ]
     },
     "execution_count": 2,
     "metadata": {},
     "output_type": "execute_result"
    }
   ],
   "source": [
    "gradataf.corr()"
   ]
  },
  {
   "cell_type": "markdown",
   "metadata": {},
   "source": [
    "### Exercise 2:\n",
    "\n",
    "Using the dataframe in the exercise above, clean and prepare your data. This means to eliminate any null (missing) values (either by dropping or filling them) and to transform any data column types to numerical values that a model can interpret. For example, if the column has string values, convert them to integers that best represent their order."
   ]
  },
  {
   "cell_type": "code",
   "execution_count": 3,
   "metadata": {},
   "outputs": [],
   "source": [
    "gradatan=gradata.dropna()"
   ]
  },
  {
   "cell_type": "code",
   "execution_count": 4,
   "metadata": {},
   "outputs": [],
   "source": [
    "gradatan['hours']=gradatan['hours'].astype(float)\n",
    "gradatan['grade']=gradatan['grade'].astype(float)"
   ]
  },
  {
   "cell_type": "code",
   "execution_count": 5,
   "metadata": {},
   "outputs": [
    {
     "data": {
      "text/html": [
       "<div>\n",
       "<style scoped>\n",
       "    .dataframe tbody tr th:only-of-type {\n",
       "        vertical-align: middle;\n",
       "    }\n",
       "\n",
       "    .dataframe tbody tr th {\n",
       "        vertical-align: top;\n",
       "    }\n",
       "\n",
       "    .dataframe thead th {\n",
       "        text-align: right;\n",
       "    }\n",
       "</style>\n",
       "<table border=\"1\" class=\"dataframe\">\n",
       "  <thead>\n",
       "    <tr style=\"text-align: right;\">\n",
       "      <th></th>\n",
       "      <th>hours</th>\n",
       "      <th>grade</th>\n",
       "    </tr>\n",
       "  </thead>\n",
       "  <tbody>\n",
       "    <tr>\n",
       "      <th>1995</th>\n",
       "      <td>8.0</td>\n",
       "      <td>80.1</td>\n",
       "    </tr>\n",
       "    <tr>\n",
       "      <th>1996</th>\n",
       "      <td>18.0</td>\n",
       "      <td>100.0</td>\n",
       "    </tr>\n",
       "    <tr>\n",
       "      <th>1997</th>\n",
       "      <td>14.0</td>\n",
       "      <td>84.9</td>\n",
       "    </tr>\n",
       "    <tr>\n",
       "      <th>1998</th>\n",
       "      <td>7.0</td>\n",
       "      <td>69.1</td>\n",
       "    </tr>\n",
       "    <tr>\n",
       "      <th>1999</th>\n",
       "      <td>10.0</td>\n",
       "      <td>79.6</td>\n",
       "    </tr>\n",
       "  </tbody>\n",
       "</table>\n",
       "</div>"
      ],
      "text/plain": [
       "      hours  grade\n",
       "1995    8.0   80.1\n",
       "1996   18.0  100.0\n",
       "1997   14.0   84.9\n",
       "1998    7.0   69.1\n",
       "1999   10.0   79.6"
      ]
     },
     "execution_count": 5,
     "metadata": {},
     "output_type": "execute_result"
    }
   ],
   "source": [
    "gradatan.tail()"
   ]
  },
  {
   "cell_type": "markdown",
   "metadata": {},
   "source": [
    "### Exercise 3:\n",
    "\n",
    "Using the cleaned dataframe in the exercise above, use the sklearn library to split the data into training and test datasets. Make the test size 30%."
   ]
  },
  {
   "cell_type": "code",
   "execution_count": 7,
   "metadata": {},
   "outputs": [],
   "source": [
    "import sklearn\n",
    "from sklearn.linear_model import LinearRegression"
   ]
  },
  {
   "cell_type": "code",
   "execution_count": 29,
   "metadata": {},
   "outputs": [
    {
     "name": "stdout",
     "output_type": "stream",
     "text": [
      "(1400, 1)\n",
      "(600, 1)\n",
      "(1400,)\n",
      "(600,)\n"
     ]
    }
   ],
   "source": [
    "X=gradatan.drop('grade', axis = 1)\n",
    "\n",
    "X_train, X_test, Y_train, Y_test = sklearn.model_selection.train_test_split(\n",
    "    X, gradatan.grade, test_size=0.30, random_state = 5)\n",
    "print(X_train.shape)\n",
    "print(X_test.shape)\n",
    "print(Y_train.shape)\n",
    "print(Y_test.shape)"
   ]
  },
  {
   "cell_type": "markdown",
   "metadata": {},
   "source": [
    "### Exercise 4:\n",
    "\n",
    "Using the training data from the previous exercise, set a linear regression function to fit the data (build the model)."
   ]
  },
  {
   "cell_type": "code",
   "execution_count": 30,
   "metadata": {},
   "outputs": [
    {
     "data": {
      "text/plain": [
       "LinearRegression(copy_X=True, fit_intercept=True, n_jobs=None,\n",
       "         normalize=False)"
      ]
     },
     "execution_count": 30,
     "metadata": {},
     "output_type": "execute_result"
    }
   ],
   "source": [
    "lm=LinearRegression()\n",
    "\n",
    "lm.fit(X_train, Y_train)"
   ]
  },
  {
   "cell_type": "markdown",
   "metadata": {},
   "source": [
    "### Exercise 5:\n",
    "\n",
    "What is the intercept coefficient (y-intercept) for the linear regression model?"
   ]
  },
  {
   "cell_type": "code",
   "execution_count": 31,
   "metadata": {},
   "outputs": [
    {
     "name": "stdout",
     "output_type": "stream",
     "text": [
      "Estimated intercept coefficient: 61.15804743757283\n"
     ]
    }
   ],
   "source": [
    "print('Estimated intercept coefficient:', lm.intercept_)"
   ]
  },
  {
   "cell_type": "markdown",
   "metadata": {},
   "source": [
    "### Exercise 6:\n",
    "\n",
    "Use the predict function on the training data and the test data."
   ]
  },
  {
   "cell_type": "code",
   "execution_count": 32,
   "metadata": {},
   "outputs": [],
   "source": [
    "pred_train = lm.predict(X_train)\n",
    "pred_test = lm.predict(X_test)"
   ]
  },
  {
   "cell_type": "code",
   "execution_count": 33,
   "metadata": {},
   "outputs": [
    {
     "name": "stdout",
     "output_type": "stream",
     "text": [
      "[65.07475893 84.65831637 80.74160488 ... 98.36680658 76.82489339\n",
      " 72.9081819 ]\n"
     ]
    }
   ],
   "source": [
    "print(pred_train)"
   ]
  },
  {
   "cell_type": "code",
   "execution_count": 34,
   "metadata": {},
   "outputs": [
    {
     "name": "stdout",
     "output_type": "stream",
     "text": [
      "[ 90.5333836   88.57502785  78.78324913  74.86653765  82.69996062\n",
      "  90.5333836   96.40845083 100.32516232  86.61667211  90.5333836\n",
      "  70.94982616  74.86653765  82.69996062  84.65831637  90.5333836\n",
      "  80.74160488  74.86653765  76.82489339  86.61667211  84.65831637\n",
      "  78.78324913  80.74160488  84.65831637  88.57502785  90.5333836\n",
      "  74.86653765  70.94982616  88.57502785  98.36680658  72.9081819\n",
      "  76.82489339  74.86653765  96.40845083  74.86653765  98.36680658\n",
      "  90.5333836   90.5333836   88.57502785  90.5333836   84.65831637\n",
      "  84.65831637  80.74160488  94.45009509  86.61667211  94.45009509\n",
      "  80.74160488  84.65831637  74.86653765  76.82489339  86.61667211\n",
      "  90.5333836   84.65831637  72.9081819   88.57502785  84.65831637\n",
      "  76.82489339  70.94982616  72.9081819   82.69996062  72.9081819\n",
      "  94.45009509  96.40845083  92.49173934  94.45009509  92.49173934\n",
      "  84.65831637  92.49173934  88.57502785  80.74160488  72.9081819\n",
      "  80.74160488  80.74160488  86.61667211  86.61667211  96.40845083\n",
      "  90.5333836   78.78324913  76.82489339  72.9081819   98.36680658\n",
      "  88.57502785  78.78324913  82.69996062  80.74160488  82.69996062\n",
      "  90.5333836   72.9081819   84.65831637  70.94982616  80.74160488\n",
      "  88.57502785  76.82489339  76.82489339  68.99147041  86.61667211\n",
      "  88.57502785  84.65831637  72.9081819   86.61667211  84.65831637\n",
      "  90.5333836   88.57502785  88.57502785  92.49173934  74.86653765\n",
      "  78.78324913  84.65831637  72.9081819   86.61667211  94.45009509\n",
      "  82.69996062  78.78324913  84.65831637  70.94982616  78.78324913\n",
      "  88.57502785  86.61667211  82.69996062  84.65831637  92.49173934\n",
      "  68.99147041  88.57502785  70.94982616  82.69996062  78.78324913\n",
      "  86.61667211  98.36680658  88.57502785  92.49173934  80.74160488\n",
      "  88.57502785  78.78324913  92.49173934  68.99147041  70.94982616\n",
      "  70.94982616  96.40845083  78.78324913  86.61667211  84.65831637\n",
      "  80.74160488  72.9081819   78.78324913  80.74160488  86.61667211\n",
      "  86.61667211  84.65831637  92.49173934  90.5333836   84.65831637\n",
      "  84.65831637  84.65831637  86.61667211  92.49173934  82.69996062\n",
      "  80.74160488  80.74160488  68.99147041  86.61667211  74.86653765\n",
      "  74.86653765  65.07475893  82.69996062  80.74160488  82.69996062\n",
      "  82.69996062  74.86653765  68.99147041  86.61667211  82.69996062\n",
      "  88.57502785  80.74160488  92.49173934  84.65831637  61.15804744\n",
      "  72.9081819   78.78324913  76.82489339  86.61667211  82.69996062\n",
      "  78.78324913  88.57502785  74.86653765  96.40845083  96.40845083\n",
      "  82.69996062  74.86653765  84.65831637  82.69996062  80.74160488\n",
      "  78.78324913  72.9081819   82.69996062  94.45009509  86.61667211\n",
      "  96.40845083  72.9081819   76.82489339  78.78324913  74.86653765\n",
      "  94.45009509  80.74160488  80.74160488  80.74160488  76.82489339\n",
      "  70.94982616  88.57502785  82.69996062  82.69996062  98.36680658\n",
      "  78.78324913  88.57502785  90.5333836   86.61667211  88.57502785\n",
      "  78.78324913  84.65831637  84.65831637  68.99147041  80.74160488\n",
      "  92.49173934  72.9081819   68.99147041  78.78324913  90.5333836\n",
      "  74.86653765  88.57502785  92.49173934  96.40845083  76.82489339\n",
      "  80.74160488  76.82489339  80.74160488  74.86653765  90.5333836\n",
      "  80.74160488  70.94982616  78.78324913  88.57502785  84.65831637\n",
      "  86.61667211  86.61667211  82.69996062  92.49173934  90.5333836\n",
      "  80.74160488  78.78324913  80.74160488  78.78324913  70.94982616\n",
      "  70.94982616 100.32516232  84.65831637  86.61667211  70.94982616\n",
      "  92.49173934  90.5333836  100.32516232  84.65831637  72.9081819\n",
      "  80.74160488  80.74160488  78.78324913  67.03311467  74.86653765\n",
      "  92.49173934  80.74160488  94.45009509  72.9081819   80.74160488\n",
      "  90.5333836   92.49173934  90.5333836   86.61667211  74.86653765\n",
      "  90.5333836  100.32516232  86.61667211  90.5333836   84.65831637\n",
      "  82.69996062  78.78324913  98.36680658  82.69996062  68.99147041\n",
      "  88.57502785  84.65831637  90.5333836   78.78324913  92.49173934\n",
      "  90.5333836   80.74160488  82.69996062  88.57502785  72.9081819\n",
      "  80.74160488  86.61667211  84.65831637  70.94982616  94.45009509\n",
      "  84.65831637  96.40845083  96.40845083  78.78324913  74.86653765\n",
      "  76.82489339  68.99147041  78.78324913  72.9081819   74.86653765\n",
      "  84.65831637  94.45009509  78.78324913  74.86653765  94.45009509\n",
      "  78.78324913  74.86653765  84.65831637  86.61667211  86.61667211\n",
      "  70.94982616  96.40845083  67.03311467  82.69996062  74.86653765\n",
      "  86.61667211  88.57502785  80.74160488  92.49173934  88.57502785\n",
      "  98.36680658  82.69996062  76.82489339  61.15804744  88.57502785\n",
      "  84.65831637  72.9081819   82.69996062  86.61667211  76.82489339\n",
      "  90.5333836   94.45009509  82.69996062  76.82489339  65.07475893\n",
      "  72.9081819   82.69996062  88.57502785  70.94982616  88.57502785\n",
      "  72.9081819   76.82489339  80.74160488  96.40845083  76.82489339\n",
      "  84.65831637  94.45009509  86.61667211  88.57502785  78.78324913\n",
      "  90.5333836   96.40845083  78.78324913  80.74160488  92.49173934\n",
      "  78.78324913  80.74160488  74.86653765  78.78324913  76.82489339\n",
      "  94.45009509  84.65831637  96.40845083  72.9081819   78.78324913\n",
      "  88.57502785  86.61667211  94.45009509  67.03311467  84.65831637\n",
      "  86.61667211  84.65831637  80.74160488  74.86653765  82.69996062\n",
      "  78.78324913  82.69996062  94.45009509  84.65831637  84.65831637\n",
      "  92.49173934  80.74160488  76.82489339  86.61667211  94.45009509\n",
      "  90.5333836   96.40845083  76.82489339  72.9081819   82.69996062\n",
      "  67.03311467  84.65831637  92.49173934  67.03311467  76.82489339\n",
      "  86.61667211  86.61667211  86.61667211  84.65831637  84.65831637\n",
      "  72.9081819   74.86653765  76.82489339  82.69996062  82.69996062\n",
      "  82.69996062  74.86653765  88.57502785  82.69996062  86.61667211\n",
      "  74.86653765  76.82489339  98.36680658  70.94982616  96.40845083\n",
      "  82.69996062  70.94982616  72.9081819   76.82489339  86.61667211\n",
      "  82.69996062  96.40845083  68.99147041  80.74160488  78.78324913\n",
      "  84.65831637  90.5333836   88.57502785  70.94982616  76.82489339\n",
      "  90.5333836   92.49173934  84.65831637  80.74160488  70.94982616\n",
      "  88.57502785  72.9081819   92.49173934  76.82489339  82.69996062\n",
      "  84.65831637  80.74160488  74.86653765  72.9081819   86.61667211\n",
      "  70.94982616  84.65831637  88.57502785  80.74160488  80.74160488\n",
      "  68.99147041  80.74160488  72.9081819   92.49173934  78.78324913\n",
      "  82.69996062  86.61667211  90.5333836   86.61667211  72.9081819\n",
      "  88.57502785  74.86653765  94.45009509  72.9081819   80.74160488\n",
      "  76.82489339  70.94982616  94.45009509  70.94982616  80.74160488\n",
      "  92.49173934  78.78324913  82.69996062  82.69996062  88.57502785\n",
      "  72.9081819   76.82489339  80.74160488  90.5333836   86.61667211\n",
      "  92.49173934  98.36680658  70.94982616  86.61667211 100.32516232\n",
      "  82.69996062  74.86653765  86.61667211  82.69996062  76.82489339\n",
      "  94.45009509  82.69996062  80.74160488  90.5333836   76.82489339\n",
      "  90.5333836   82.69996062  90.5333836   92.49173934  84.65831637\n",
      "  72.9081819   80.74160488  88.57502785  88.57502785  86.61667211\n",
      "  94.45009509  88.57502785  80.74160488  74.86653765  76.82489339\n",
      "  74.86653765  80.74160488  84.65831637  90.5333836   68.99147041\n",
      "  78.78324913  80.74160488  88.57502785  80.74160488  82.69996062\n",
      "  88.57502785  88.57502785  72.9081819   84.65831637  84.65831637\n",
      "  94.45009509  74.86653765  90.5333836   86.61667211  90.5333836\n",
      "  74.86653765  80.74160488  96.40845083  76.82489339  96.40845083\n",
      "  78.78324913  68.99147041  94.45009509  78.78324913  76.82489339\n",
      "  84.65831637  70.94982616  78.78324913  92.49173934  76.82489339\n",
      "  90.5333836   82.69996062  82.69996062  80.74160488  68.99147041\n",
      "  74.86653765  92.49173934  92.49173934  94.45009509  94.45009509\n",
      "  78.78324913  84.65831637  94.45009509  68.99147041 100.32516232\n",
      "  86.61667211 100.32516232  74.86653765  90.5333836   90.5333836\n",
      "  88.57502785  86.61667211  82.69996062  74.86653765  74.86653765\n",
      "  80.74160488  67.03311467  76.82489339  70.94982616 100.32516232\n",
      "  86.61667211  70.94982616  90.5333836   80.74160488  76.82489339\n",
      "  78.78324913  82.69996062  80.74160488  90.5333836   68.99147041\n",
      "  96.40845083  82.69996062  86.61667211  90.5333836   86.61667211]\n"
     ]
    }
   ],
   "source": [
    "print(pred_test)"
   ]
  },
  {
   "cell_type": "markdown",
   "metadata": {},
   "source": [
    "### Exercise 7:\n",
    "\n",
    "Calculate the score of the training and test predictions. How \"good\" was the linear regression model at predicting the test data compared to the training data?"
   ]
  },
  {
   "cell_type": "code",
   "execution_count": 35,
   "metadata": {},
   "outputs": [
    {
     "name": "stdout",
     "output_type": "stream",
     "text": [
      "0.6617668087717481\n",
      "0.5968856418384679\n"
     ]
    }
   ],
   "source": [
    "print(lm.score(X_train, Y_train))\n",
    "print(lm.score(X_test, Y_test))"
   ]
  },
  {
   "cell_type": "code",
   "execution_count": 37,
   "metadata": {},
   "outputs": [],
   "source": [
    "#kinda good"
   ]
  }
 ],
 "metadata": {
  "kernelspec": {
   "display_name": "Python 3",
   "language": "python",
   "name": "python3"
  },
  "language_info": {
   "codemirror_mode": {
    "name": "ipython",
    "version": 3
   },
   "file_extension": ".py",
   "mimetype": "text/x-python",
   "name": "python",
   "nbconvert_exporter": "python",
   "pygments_lexer": "ipython3",
   "version": "3.7.3"
  }
 },
 "nbformat": 4,
 "nbformat_minor": 2
}
