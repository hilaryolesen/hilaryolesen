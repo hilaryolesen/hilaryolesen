{
 "cells": [
  {
   "cell_type": "code",
   "execution_count": 7,
   "metadata": {},
   "outputs": [
    {
     "name": "stdout",
     "output_type": "stream",
     "text": [
      "Good day. What is your problem? Enter your response here or press Q to quit:\n",
      "Enter your response here or press Q to quit:Georgia Ave traffic is so terrible\n",
      "Georgia Ave traffic is so terrible\n",
      "Enter your response here or press Q to quit:I think I have a bug bite on my jaw\n",
      "I think I have a bug bite on my jaw\n",
      "Enter your response here or press Q to quit:I aM fEeLiNg GrEaT\n",
      "I aM fEeLiNg GrEaT\n"
     ]
    }
   ],
   "source": [
    "message=\"Enter your response here or press Q to quit:\"\n",
    "\n",
    "print(\"Good day. What is your problem? \" + message)\n",
    "\n",
    "while True:\n",
    "    response = input(message)\n",
    "    \n",
    "    if response.lower() == \"q\":\n",
    "        break\n",
    "    elif response.lower() == \"i am feeling great\":\n",
    "        print(response)\n",
    "        break\n",
    "    else:\n",
    "        print(response)"
   ]
  },
  {
   "cell_type": "code",
   "execution_count": null,
   "metadata": {},
   "outputs": [],
   "source": []
  }
 ],
 "metadata": {
  "kernelspec": {
   "display_name": "Python 3",
   "language": "python",
   "name": "python3"
  },
  "language_info": {
   "codemirror_mode": {
    "name": "ipython",
    "version": 3
   },
   "file_extension": ".py",
   "mimetype": "text/x-python",
   "name": "python",
   "nbconvert_exporter": "python",
   "pygments_lexer": "ipython3",
   "version": "3.7.3"
  }
 },
 "nbformat": 4,
 "nbformat_minor": 2
}
