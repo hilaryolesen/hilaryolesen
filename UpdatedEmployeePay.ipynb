{
 "cells": [
  {
   "cell_type": "code",
   "execution_count": 3,
   "metadata": {},
   "outputs": [],
   "source": [
    "employees={'001':\n",
    "            {'Name':'Mary',\n",
    "            'Pay Rate':15,\n",
    "            'Hours Worked':40},\n",
    "            '002':{'Name':'John',\n",
    "            'Pay Rate':22,\n",
    "            'Hours Worked':25},\n",
    "            '003':{'Name':'Bob',\n",
    "            'Pay Rate':35,\n",
    "            'Hours Worked':4},\n",
    "            '004':{'Name':'Mel',\n",
    "            'Pay Rate':43,\n",
    "            'Hours Worked':62},\n",
    "            '005':{'Name':'Jen',\n",
    "            'Pay Rate':17,\n",
    "            'Hours Worked':33},\n",
    "            '006':{'Name':'Sue',\n",
    "            'Pay Rate':29,\n",
    "            'Hours Worked':45},\n",
    "            '007':{'Name':'Ken',\n",
    "            'Pay Rate':40,\n",
    "            'Hours Worked':36},\n",
    "            '008':{'Name':'Dave',\n",
    "            'Pay Rate':20,\n",
    "            'Hours Worked':17},\n",
    "            '009':{'Name':'Beth',\n",
    "            'Pay Rate':37,\n",
    "            'Hours Worked':37},\n",
    "            '010':{'Name':'Ray',\n",
    "            'Pay Rate':16.5,\n",
    "            'Hours Worked':80}\n",
    "        }"
   ]
  },
  {
   "cell_type": "code",
   "execution_count": 6,
   "metadata": {},
   "outputs": [
    {
     "name": "stdout",
     "output_type": "stream",
     "text": [
      "Mary: $600.00\n",
      "John: $550.00\n",
      "Bob: $140.00\n",
      "Mel: $3139.00\n",
      "Jen: $561.00\n",
      "Sue: $1377.50\n",
      "Ken: $1440.00\n",
      "Dave: $340.00\n",
      "Beth: $1369.00\n",
      "Ray: $1650.00\n"
     ]
    }
   ],
   "source": [
    "for iden, employee in employees.items():\n",
    "    hours=employee[\"Hours Worked\"]\n",
    "    pay=employee[\"Pay Rate\"]\n",
    "    if hours > 40:\n",
    "        salary=((40*pay)+((hours-40)*pay*1.5))\n",
    "    else:\n",
    "        salary=(hours*pay)\n",
    "    print(employee['Name'] + \": $\" +str(\"{:.2f}\".format(salary,2)))"
   ]
  },
  {
   "cell_type": "code",
   "execution_count": null,
   "metadata": {},
   "outputs": [],
   "source": []
  }
 ],
 "metadata": {
  "kernelspec": {
   "display_name": "Python 3",
   "language": "python",
   "name": "python3"
  },
  "language_info": {
   "codemirror_mode": {
    "name": "ipython",
    "version": 3
   },
   "file_extension": ".py",
   "mimetype": "text/x-python",
   "name": "python",
   "nbconvert_exporter": "python",
   "pygments_lexer": "ipython3",
   "version": "3.7.3"
  }
 },
 "nbformat": 4,
 "nbformat_minor": 2
}
