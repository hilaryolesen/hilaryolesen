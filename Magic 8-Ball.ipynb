{
 "cells": [
  {
   "cell_type": "code",
   "execution_count": 3,
   "metadata": {},
   "outputs": [],
   "source": [
    "import random\n",
    "\n",
    "magic = ['It is certain','It is decidedly so','Without a doubt','Yes definitely','You may rely on it',\n",
    "        'As I see it, yes','Most likely','Outlook good','Yes','Signs point to yes','Reply hazy try again',\n",
    "        'Ask again later','Better not tell you now','Cannot predict now','Concentrate and ask again',\n",
    "        \"Don't count on it\",'My reply is no','My sources say no','Outlook not so good','Very doubtful']"
   ]
  },
  {
   "cell_type": "code",
   "execution_count": 13,
   "metadata": {},
   "outputs": [
    {
     "name": "stdout",
     "output_type": "stream",
     "text": [
      "Do you have a question for the magic 8-ball? (yes/no)yes\n",
      "Ask away: Will I get a text today?\n",
      "\n",
      "YOU ASKED: Will I get a text today?\n",
      "\n",
      "MAGIC 8-BALL SAYS: Very doubtful\n",
      "Do you have a question for the magic 8-ball? (yes/no)yes\n",
      "Ask away: Has Sony read my email yet?\n",
      "\n",
      "YOU ASKED: Has Sony read my email yet?\n",
      "\n",
      "MAGIC 8-BALL SAYS: Yes\n",
      "Do you have a question for the magic 8-ball? (yes/no)yes\n",
      "Ask away: Do you, a magic 8 ball, bleed?\n",
      "\n",
      "YOU ASKED: Do you, a magic 8 ball, bleed?\n",
      "\n",
      "MAGIC 8-BALL SAYS: Without a doubt\n",
      "Do you have a question for the magic 8-ball? (yes/no)no\n",
      "\n",
      "Thank you for playing!\n"
     ]
    }
   ],
   "source": [
    "while True:\n",
    "\n",
    "    yn = input(\"Do you have a question for the magic 8-ball? (yes/no)\")\n",
    "\n",
    "    if yn.lower() == 'yes':\n",
    "        question = input(\"Ask away: \")\n",
    "        print(\"\\nYOU ASKED: \" + question)\n",
    "        print(\"\\nMAGIC 8-BALL SAYS: \" + magic[random.randint(0,19)])\n",
    "    else:\n",
    "        break\n",
    "        \n",
    "        \n",
    "print(\"\\nThank you for playing!\")"
   ]
  },
  {
   "cell_type": "code",
   "execution_count": null,
   "metadata": {},
   "outputs": [],
   "source": []
  }
 ],
 "metadata": {
  "kernelspec": {
   "display_name": "Python 3",
   "language": "python",
   "name": "python3"
  },
  "language_info": {
   "codemirror_mode": {
    "name": "ipython",
    "version": 3
   },
   "file_extension": ".py",
   "mimetype": "text/x-python",
   "name": "python",
   "nbconvert_exporter": "python",
   "pygments_lexer": "ipython3",
   "version": "3.7.3"
  }
 },
 "nbformat": 4,
 "nbformat_minor": 2
}
