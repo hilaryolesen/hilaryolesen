{
 "cells": [
  {
   "cell_type": "code",
   "execution_count": 22,
   "metadata": {},
   "outputs": [],
   "source": [
    "def perspectivei(complaint):\n",
    "    \"\"\"Switch I to You\"\"\"\n",
    "    if 'i ' in complaint:\n",
    "        complaint = complaint.replace('i ', 'you ')\n",
    "    elif 'I ' in complaint:\n",
    "        complaint = complaint.replace('I ', 'You ')\n",
    "    return complaint"
   ]
  },
  {
   "cell_type": "code",
   "execution_count": 23,
   "metadata": {},
   "outputs": [],
   "source": [
    "def perspectiveme(complaint):\n",
    "    \"\"\"Switch me to you\"\"\"\n",
    "    if ' me' in complaint:\n",
    "        complaint = complaint.replace(' me', ' you')\n",
    "    return complaint"
   ]
  },
  {
   "cell_type": "code",
   "execution_count": 24,
   "metadata": {},
   "outputs": [],
   "source": [
    "def perspectivemy(complaint):\n",
    "    \"\"\"Switch my to your\"\"\"\n",
    "    if 'my ' in complaint:\n",
    "        complaint = complaint.replace('my ', 'your ')\n",
    "    elif 'My ' in complaint:\n",
    "        complaint = complaint.replace('My ', 'Your ')\n",
    "    return complaint"
   ]
  },
  {
   "cell_type": "code",
   "execution_count": 25,
   "metadata": {},
   "outputs": [],
   "source": [
    "def perspectiveam(complaint):\n",
    "    \"\"\"Switch am to are\"\"\"\n",
    "    if ' am' in complaint:\n",
    "        complaint = complaint.replace(' am', ' are')\n",
    "    elif ' Am' in complaint:\n",
    "        complaint = complaint.replace(' Am', ' Are')\n",
    "    return complaint"
   ]
  },
  {
   "cell_type": "code",
   "execution_count": 28,
   "metadata": {},
   "outputs": [],
   "source": [
    "def perspectivemyself(complaint):\n",
    "    \"\"\"Switch myself to yourself\"\"\"\n",
    "    if ' myself' in complaint:\n",
    "        complaint = complaint.replace(' myself', ' yourself')\n",
    "    elif ' Myself' in complaint:\n",
    "        complaint = complaint.replace(' Myself', ' Yourself')\n",
    "    return complaint"
   ]
  },
  {
   "cell_type": "code",
   "execution_count": 29,
   "metadata": {},
   "outputs": [],
   "source": [
    "def perspective(complaint):\n",
    "    \"\"\"Swtich from first person to second\"\"\"\n",
    "    complaint=perspectivei(complaint)\n",
    "    complaint=perspectivemy(complaint)\n",
    "    complaint=perspectiveam(complaint)\n",
    "    complaint=perspectiveme(complaint)\n",
    "    complaint=perspectivemyself(complaint)\n",
    "    return complaint"
   ]
  },
  {
   "cell_type": "code",
   "execution_count": 30,
   "metadata": {},
   "outputs": [
    {
     "name": "stdout",
     "output_type": "stream",
     "text": [
      "Good day. What is your problem? Enter your response here or press Q to quit:\n",
      "Enter your response here or press Q to quit:i am myself\n",
      "you are yourself\n",
      "Enter your response here or press Q to quit:i am me and my imaginary friend\n",
      "you are you and your imaginary friend\n",
      "Enter your response here or press Q to quit:I am feeling great\n",
      "You are feeling great\n"
     ]
    }
   ],
   "source": [
    "message=\"Enter your response here or press Q to quit:\"\n",
    "\n",
    "print(\"Good day. What is your problem? \" + message)\n",
    "\n",
    "while True:\n",
    "    response = input(message)\n",
    "    \n",
    "    if response.lower() == \"q\":\n",
    "        break\n",
    "    elif response.lower() == \"i am feeling great\":\n",
    "        print(perspective(response))\n",
    "        break\n",
    "    else:\n",
    "        print(perspective(response))"
   ]
  },
  {
   "cell_type": "code",
   "execution_count": null,
   "metadata": {},
   "outputs": [],
   "source": []
  }
 ],
 "metadata": {
  "kernelspec": {
   "display_name": "Python 3",
   "language": "python",
   "name": "python3"
  },
  "language_info": {
   "codemirror_mode": {
    "name": "ipython",
    "version": 3
   },
   "file_extension": ".py",
   "mimetype": "text/x-python",
   "name": "python",
   "nbconvert_exporter": "python",
   "pygments_lexer": "ipython3",
   "version": "3.7.3"
  }
 },
 "nbformat": 4,
 "nbformat_minor": 2
}
