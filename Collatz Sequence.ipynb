{
 "cells": [
  {
   "cell_type": "code",
   "execution_count": 7,
   "metadata": {},
   "outputs": [
    {
     "name": "stdout",
     "output_type": "stream",
     "text": [
      "Type a number: 3\n",
      "3  10  5  16  8  4  2  1  "
     ]
    }
   ],
   "source": [
    "num=input(\"Type a number: \")\n",
    "num=int(num)\n",
    "print(\"{:.0f}\".format(num),\" \",end='')\n",
    "while num != 1:\n",
    "    if num%2==0:\n",
    "        num=num/2\n",
    "        print(\"{:.0f}\".format(num),\" \",end='')\n",
    "    else:\n",
    "        num=(num*3)+1\n",
    "        print(\"{:.0f}\".format(num),\" \",end='')"
   ]
  },
  {
   "cell_type": "code",
   "execution_count": null,
   "metadata": {},
   "outputs": [],
   "source": []
  }
 ],
 "metadata": {
  "kernelspec": {
   "display_name": "Python 3",
   "language": "python",
   "name": "python3"
  },
  "language_info": {
   "codemirror_mode": {
    "name": "ipython",
    "version": 3
   },
   "file_extension": ".py",
   "mimetype": "text/x-python",
   "name": "python",
   "nbconvert_exporter": "python",
   "pygments_lexer": "ipython3",
   "version": "3.7.3"
  }
 },
 "nbformat": 4,
 "nbformat_minor": 2
}
