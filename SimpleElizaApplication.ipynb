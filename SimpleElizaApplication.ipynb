{
 "cells": [
  {
   "cell_type": "code",
   "execution_count": 17,
   "metadata": {},
   "outputs": [
    {
     "name": "stdout",
     "output_type": "stream",
     "text": [
      "Good day. What is your problem?\n",
      "Enter your response here or press Q to quit:the Disney-Sony standoff\n",
      "the Disney-Sony standoff\n",
      "Enter your response here or press Q to quit:it's hot outside\n",
      "it's hot outside\n",
      "Enter your response here or press Q to quit:the commute is terrible\n",
      "the commute is terrible\n",
      "Enter your response here or press Q to quit:I am feeling great\n",
      "I am feeling great\n",
      "Yay!\n"
     ]
    }
   ],
   "source": [
    "x=1\n",
    "quittime=\"q\"\n",
    "success=\"i am feeling great\"\n",
    "\n",
    "print(\"Good day. What is your problem?\")\n",
    "\n",
    "while x!=2:\n",
    "    \n",
    "    response=input(\"Enter your response here or press Q to quit:\")\n",
    "    lresponse=response.lower()\n",
    "    \n",
    "    if lresponse == success:\n",
    "        print(response)\n",
    "        print(\"Yay!\")\n",
    "        x=2\n",
    "    elif lresponse == quittime:\n",
    "        print(\"Bye!\")\n",
    "        x=2\n",
    "    else:\n",
    "        print(response)"
   ]
  },
  {
   "cell_type": "code",
   "execution_count": null,
   "metadata": {},
   "outputs": [],
   "source": []
  }
 ],
 "metadata": {
  "kernelspec": {
   "display_name": "Python 3",
   "language": "python",
   "name": "python3"
  },
  "language_info": {
   "codemirror_mode": {
    "name": "ipython",
    "version": 3
   },
   "file_extension": ".py",
   "mimetype": "text/x-python",
   "name": "python",
   "nbconvert_exporter": "python",
   "pygments_lexer": "ipython3",
   "version": "3.7.3"
  }
 },
 "nbformat": 4,
 "nbformat_minor": 2
}
